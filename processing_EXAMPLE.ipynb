{
 "cells": [
  {
   "cell_type": "markdown",
   "metadata": {},
   "source": [
    "## Install necessary packages"
   ]
  },
  {
   "cell_type": "code",
   "execution_count": 1,
   "metadata": {},
   "outputs": [],
   "source": [
    "# need to first install the following packages\n",
    "# create new conda environment first\n",
    "\n",
    "# run the following commands in the terminal to install the required packages:\n",
    "\n",
    "\n",
    "# conda create -n fluxoniumDB python=3.12 -y\n",
    "# conda activate fl'uxoniumDB\n",
    "# conda install matplotlib numpy pandas seaborn notebook jupyter -y\n",
    "# conda install -c conda-forge scqubits -y\n",
    "\n",
    "# took ~5 minutes to install\n",
    "\n",
    "\n",
    "# switch to that environment in the noteobok"
   ]
  },
  {
   "cell_type": "code",
   "execution_count": 1,
   "metadata": {},
   "outputs": [],
   "source": [
    "import matplotlib.pyplot as plt\n",
    "import numpy as np\n",
    "import scqubits as scq\n",
    "import pandas as pd\n",
    "import seaborn as sns\n",
    "import matplotlib\n",
    "\n",
    "# import matplotlib\n",
    "from tqdm import tqdm\n",
    "\n",
    "# set matplotlib style\n",
    "plt.style.use('petroff10')\n",
    "\n",
    "# import matplotlib\n",
    "# matplotlib.use('svg') \n",
    "\n",
    "scq.__version__\n",
    "\n",
    "%matplotlib inline\n",
    "\n",
    "plt.rcParams['figure.constrained_layout.use'] = True"
   ]
  },
  {
   "cell_type": "code",
   "execution_count": 2,
   "metadata": {},
   "outputs": [],
   "source": [
    "data = pd.read_csv('fluxonium.csv')\n",
    "try: \n",
    "    data['Date'] = pd.to_datetime(data['Date'], format='%Y/%m/%d')   \n",
    "except ValueError:\n",
    "    data['Date'] = pd.to_datetime(data['Date'], format='%Y-%m-%d') "
   ]
  },
  {
   "cell_type": "code",
   "execution_count": 3,
   "metadata": {},
   "outputs": [
    {
     "data": {
      "text/plain": [
       "Index(['Date', '[Author Year] {Qubit}', 'DOI', 'Published?', 'Measured Lab',\n",
       "       'Notes', 'EJ (hGHz)', 'EC (hGHz)', 'EL (hGHz)', 'fr (GHz)',\n",
       "       'kappa/2pi (MHz)', 'g/2pi (hMHz)', 'Coherence Loc?', 'chi01 (hMHz)',\n",
       "       'T1 (us)', 'T2R (us)', 'T2E (us)', 'Fid_ro', 'Grounded/Floating',\n",
       "       'n_crit', 'n_ro', 't_ro (us)', 'Quantum Amplifier', 'Drive Lines',\n",
       "       'Bandaging', 'Cavity Type', 'Flux Noise Amplitude (uPhi0)',\n",
       "       'Cap. Pad Material', 'Qubit Image', 'Measured Area/Perim Image',\n",
       "       'Loop area (um^2)', 'Loop Perimeter (um)', 'Measured JJ Area',\n",
       "       'JJ in Array area (um^2)', 'n_JJ_in_Array', 'Special Name', 'Substrate',\n",
       "       'Superinductance', '# Other Qb', 'Jc (uA/um^2)', 'tan(deltaC) (x10^6)'],\n",
       "      dtype='object')"
      ]
     },
     "execution_count": 3,
     "metadata": {},
     "output_type": "execute_result"
    }
   ],
   "source": [
    "# get all the columns\n",
    "data.columns"
   ]
  },
  {
   "cell_type": "code",
   "execution_count": null,
   "metadata": {},
   "outputs": [
    {
     "name": "stderr",
     "output_type": "stream",
     "text": [
      "UserWarning: \n",
      "The markers list has fewer values (15) than needed (23) and will cycle, which may produce an uninterpretable plot.\n",
      " C:\\Users\\slab\\AppData\\Local\\Temp\\ipykernel_21796\\3939088551.py: 9"
     ]
    }
   ],
   "source": [
    "# scatter plot of 'Date' vs 'T2R (us)' at half flux\n",
    "fig, ax = plt.subplots(figsize=(6, 6))\n",
    "\n",
    "markers = [\"o\",\"*\",(5, 1, 180),\"D\",\"H\",\"X\",\"P\",'8',\"v\",\"^\",\"<\",\">\",\"h\",\"d\",\"p\"]\n",
    "\n",
    "# half-flux data\n",
    "data_half_flux = data[data['Coherence Loc?'] == 'half-flux']\n",
    "\n",
    "ax = sns.scatterplot(data_half_flux, x='Date', y='T2R (us)', markers=markers, ax=ax,\n",
    "                     hue='Measured Lab', style='Measured Lab', s=200, alpha=0.7)\n",
    "\n",
    "ax.legend(loc='upper center', bbox_to_anchor=(0.5, -0.2), ncol=3)\n",
    "\n",
    "ax.set_yscale('log')\n",
    "\n",
    "fig.savefig('half_flux_records.png', dpi=300)"
   ]
  },
  {
   "cell_type": "code",
   "execution_count": null,
   "metadata": {},
   "outputs": [],
   "source": []
  }
 ],
 "metadata": {
  "kernelspec": {
   "display_name": "fluxoniumDB",
   "language": "python",
   "name": "python3"
  },
  "language_info": {
   "codemirror_mode": {
    "name": "ipython",
    "version": 3
   },
   "file_extension": ".py",
   "mimetype": "text/x-python",
   "name": "python",
   "nbconvert_exporter": "python",
   "pygments_lexer": "ipython3",
   "version": "3.12.3"
  }
 },
 "nbformat": 4,
 "nbformat_minor": 2
}
